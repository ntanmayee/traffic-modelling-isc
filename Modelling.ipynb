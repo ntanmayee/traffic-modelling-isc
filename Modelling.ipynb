{
 "cells": [
  {
   "cell_type": "code",
   "execution_count": 27,
   "metadata": {
    "collapsed": false
   },
   "outputs": [],
   "source": [
    "%matplotlib inline\n",
    "import pandas as pd\n",
    "import numpy as np\n",
    "import matplotlib.pyplot as plt\n",
    "from sklearn import linear_model"
   ]
  },
  {
   "cell_type": "code",
   "execution_count": 34,
   "metadata": {
    "collapsed": true
   },
   "outputs": [],
   "source": [
    "# Piecewise regression data generation\n",
    "# Assume three road segments\n",
    "\n",
    "seg1_x = np.linspace(0,3,20)\n",
    "seg2_x = np.linspace(3,5,20)\n",
    "seg3_x = np.linspace(5,9,20)\n",
    "\n",
    "# Add White Gaussian noise to data\n",
    "\n",
    "seg1_y = seg1_x + 2 + np.random.normal(0,0.2,20)\n",
    "seg2_y = 5 + np.random.normal(0,0.2,20)\n",
    "seg3_y = -1*seg3_x + 10 + np.random.normal(0,0.2,20)"
   ]
  },
  {
   "cell_type": "code",
   "execution_count": 29,
   "metadata": {
    "collapsed": false
   },
   "outputs": [
    {
     "data": {
      "text/plain": [
       "LinearRegression(copy_X=True, fit_intercept=True, n_jobs=1, normalize=False)"
      ]
     },
     "execution_count": 29,
     "metadata": {},
     "output_type": "execute_result"
    }
   ],
   "source": [
    "# Fit the linear regression model\n",
    "regr1 = linear_model.LinearRegression()\n",
    "regr2 = linear_model.LinearRegression()\n",
    "regr3 = linear_model.LinearRegression()\n",
    "\n",
    "regr1.fit(seg1_x.reshape(-1,1), seg1_y)\n",
    "regr2.fit(seg2_x.reshape(-1,1), seg2_y)\n",
    "regr3.fit(seg3_x.reshape(-1,1), seg3_y)"
   ]
  },
  {
   "cell_type": "code",
   "execution_count": 33,
   "metadata": {
    "collapsed": false,
    "scrolled": false
   },
   "outputs": [
    {
     "data": {
      "text/plain": [
       "[<matplotlib.lines.Line2D at 0x7f7116fc50d0>]"
      ]
     },
     "execution_count": 33,
     "metadata": {},
     "output_type": "execute_result"
    },
    {
     "data": {
      "image/png": "[encoded data removed]",
      "text/plain": [
       "<matplotlib.figure.Figure at 0x7f7116f7d350>"
      ]
     },
     "metadata": {},
     "output_type": "display_data"
    }
   ],
   "source": [
    "plt.scatter(seg1_x, seg1_y, color ='blue')\n",
    "plt.scatter(seg2_x, seg2_y, color = 'green')\n",
    "plt.scatter(seg3_x, seg3_y, color = 'red')\n",
    "\n",
    "plt.plot(seg1_x.reshape(-1,1), regr1.predict(seg1_x.reshape(-1,1)), color='blue')\n",
    "plt.plot(seg2_x.reshape(-1,1), regr2.predict(seg2_x.reshape(-1,1)), color = 'green')\n",
    "plt.plot(seg3_x.reshape(-1,1), regr3.predict(seg3_x.reshape(-1,1)), color = 'red')"
   ]
  },
  {
   "cell_type": "code",
   "execution_count": 41,
   "metadata": {
    "collapsed": true
   },
   "outputs": [],
   "source": [
    "# Piecewise regression data generation\n",
    "# Assume three road segments\n",
    "\n",
    "seg1_x = np.linspace(0,3,20)\n",
    "seg2_x = np.linspace(3,5,20)\n",
    "seg3_x = np.linspace(5,9,20)\n",
    "\n",
    "# Add White Gaussian noise to data\n",
    "\n",
    "var = 0.5\n",
    "\n",
    "seg1_y = seg1_x + 2 + np.random.normal(0,var,20)\n",
    "seg2_y = 5 + np.random.normal(0,var,20)\n",
    "seg3_y = -1*seg3_x + 10 + np.random.normal(0,var,20)"
   ]
  },
  {
   "cell_type": "code",
   "execution_count": 42,
   "metadata": {
    "collapsed": false
   },
   "outputs": [
    {
     "data": {
      "text/plain": [
       "LinearRegression(copy_X=True, fit_intercept=True, n_jobs=1, normalize=False)"
      ]
     },
     "execution_count": 42,
     "metadata": {},
     "output_type": "execute_result"
    }
   ],
   "source": [
    "# Fit the linear regression model\n",
    "regr1 = linear_model.LinearRegression()\n",
    "regr2 = linear_model.LinearRegression()\n",
    "regr3 = linear_model.LinearRegression()\n",
    "\n",
    "regr1.fit(seg1_x.reshape(-1,1), seg1_y)\n",
    "regr2.fit(seg2_x.reshape(-1,1), seg2_y)\n",
    "regr3.fit(seg3_x.reshape(-1,1), seg3_y)"
   ]
  },
  {
   "cell_type": "code",
   "execution_count": 43,
   "metadata": {
    "collapsed": false,
    "scrolled": false
   },
   "outputs": [
    {
     "data": {
      "text/plain": [
       "[<matplotlib.lines.Line2D at 0x7f7116c410d0>]"
      ]
     },
     "execution_count": 43,
     "metadata": {},
     "output_type": "execute_result"
    },
    {
     "data": {
      "image/png": "[encoded data removed]",
      "text/plain": [
       "<matplotlib.figure.Figure at 0x7f7116d136d0>"
      ]
     },
     "metadata": {},
     "output_type": "display_data"
    }
   ],
   "source": [
    "plt.scatter(seg1_x, seg1_y, color ='blue')\n",
    "plt.scatter(seg2_x, seg2_y, color = 'green')\n",
    "plt.scatter(seg3_x, seg3_y, color = 'red')\n",
    "\n",
    "plt.plot(seg1_x.reshape(-1,1), regr1.predict(seg1_x.reshape(-1,1)), color='blue')\n",
    "plt.plot(seg2_x.reshape(-1,1), regr2.predict(seg2_x.reshape(-1,1)), color = 'green')\n",
    "plt.plot(seg3_x.reshape(-1,1), regr3.predict(seg3_x.reshape(-1,1)), color = 'red')"
   ]
  }
 ],
 "metadata": {
  "kernelspec": {
   "display_name": "Python 2",
   "language": "python",
   "name": "python2"
  },
  "language_info": {
   "codemirror_mode": {
    "name": "ipython",
    "version": 2
   },
   "file_extension": ".py",
   "mimetype": "text/x-python",
   "name": "python",
   "nbconvert_exporter": "python",
   "pygments_lexer": "ipython2",
   "version": "2.7.6"
  }
 },
 "nbformat": 4,
 "nbformat_minor": 0
}
